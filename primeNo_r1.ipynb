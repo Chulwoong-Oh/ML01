{
 "cells": [
  {
   "cell_type": "code",
   "execution_count": 11,
   "id": "c7a6250d-fcb6-47ac-925b-e242d0307620",
   "metadata": {},
   "outputs": [],
   "source": [
    "import datetime\n",
    "def is_prime(n, div=2):\n",
    "    global primelist\n",
    "    if div> n/2.0: return True\n",
    "    if div < primelist[0]:\n",
    "        div = primelist[0]\n",
    "        for x in primelist:\n",
    "            if x ==0 or x==1: continue\n",
    "            if n % x == 0:\n",
    "                return False\n",
    "    if n% div == 0:\n",
    "        return False\n",
    "    else:\n",
    "        div+=1\n",
    "        return is_prime(n,div)"
   ]
  },
  {
   "cell_type": "code",
   "execution_count": 24,
   "id": "08b644ff-2336-413a-a83f-0918c94777c4",
   "metadata": {},
   "outputs": [],
   "source": [
    "def primes(limit):\n",
    "    if limit > 1:\n",
    "        primes_found = [(2, 4)]\n",
    "        yield 2\n",
    "        for n in range(3, limit + 1, 2):\n",
    "            for p, ps in primes_found:\n",
    "                if ps > n:\n",
    "                    primes_found.append((n, n * n))\n",
    "                    yield n\n",
    "                    break\n",
    "                else:\n",
    "                    if not n % p:\n",
    "                        break"
   ]
  },
  {
   "cell_type": "code",
   "execution_count": 33,
   "id": "89469b3d-6fc7-4c98-9708-ec117b054b73",
   "metadata": {},
   "outputs": [
    {
     "name": "stdout",
     "output_type": "stream",
     "text": [
      "time and date: 2022-02-01 15:16:38.408230\n",
      "There are 9594 prime numbers, until 100000\n",
      "[99991, 99989, 99971, 99961, 99929, 99923, 99907, 99901, 99881, 99877, 99871, 99859, 99839, 99833, 99829, 99823, 99817, 99809, 99793, 99787, 99767, 99761, 99733, 99721, 99719, 99713, 99709, 99707, 99689, 99679, 99667, 99661, 99643, 99623, 99611, 99607, 99581, 99577, 99571, 99563, 99559, 99551, 99529, 99527, 99523, 99497, 99487, 99469, 99439, 99431, 99409, 99401, 99397, 99391, 99377, 99371, 99367, 99349, 99347, 99317, 99289, 99277, 99259, 99257, 99251, 99241, 99233, 99223, 99191, 99181, 99173, 99149, 99139, 99137, 99133, 99131, 99119, 99109, 99103, 99089, 99083, 99079, 99053, 99041, 99023, 99017, 99013, 98999, 98993, 98981, 98963, 98953, 98947, 98939, 98929, 98927, 98911, 98909, 98899, 98897] ...\n",
      "It took your computer 0:00:31.798063  to calculate it\n"
     ]
    }
   ],
   "source": [
    "now = datetime.datetime.now()\n",
    "print('time and date:',now)\n",
    "until = 100000\n",
    "primelist=[]\n",
    "for i in range(until):\n",
    "    if is_prime(i):\n",
    "        primelist.insert(0,i)\n",
    "print(\"There are\", len(primelist),\"prime numbers, until\", until)\n",
    "print(primelist[0:100], \"...\")\n",
    "\n",
    "finish = datetime.datetime.now()\n",
    "print(\"It took your computer\", finish - now , \" to calculate it\")"
   ]
  },
  {
   "cell_type": "code",
   "execution_count": 29,
   "id": "01977d18-7418-4c38-8a1d-6f799949fb90",
   "metadata": {},
   "outputs": [
    {
     "name": "stdout",
     "output_type": "stream",
     "text": [
      "time and date: 2022-02-01 15:15:51.673246\n",
      "There are 9592 prime numbers, until 100000\n",
      "[99991, 99989, 99971, 99961, 99929, 99923, 99907, 99901, 99881, 99877, 99871, 99859, 99839, 99833, 99829, 99823, 99817, 99809, 99793, 99787, 99767, 99761, 99733, 99721, 99719, 99713, 99709, 99707, 99689, 99679, 99667, 99661, 99643, 99623, 99611, 99607, 99581, 99577, 99571, 99563, 99559, 99551, 99529, 99527, 99523, 99497, 99487, 99469, 99439, 99431, 99409, 99401, 99397, 99391, 99377, 99371, 99367, 99349, 99347, 99317, 99289, 99277, 99259, 99257, 99251, 99241, 99233, 99223, 99191, 99181, 99173, 99149, 99139, 99137, 99133, 99131, 99119, 99109, 99103, 99089, 99083, 99079, 99053, 99041, 99023, 99017, 99013, 98999, 98993, 98981, 98963, 98953, 98947, 98939, 98929, 98927, 98911, 98909, 98899, 98897] ...\n",
      "It took your computer 0:00:00.089734  to calculate it\n"
     ]
    }
   ],
   "source": [
    "now = datetime.datetime.now()\n",
    "print('time and date:',now)\n",
    "until = 100000\n",
    "\n",
    "# for num in range(2, until):\n",
    "#     for i in range(2,num):\n",
    "#         if not num % i:\n",
    "#             break\n",
    "#     else:\n",
    "#         print(num)\n",
    "\n",
    "primelist1=[]\n",
    "for i in primes(until):\n",
    "    primelist1.insert(0,i)\n",
    "print(\"There are\", len(primelist1),\"prime numbers, until\", until)\n",
    "print(primelist1[0:100], \"...\")\n",
    "\n",
    "finish = datetime.datetime.now()\n",
    "print(\"It took your computer\", finish - now , \" to calculate it\")"
   ]
  },
  {
   "cell_type": "code",
   "execution_count": 36,
   "id": "de85d76e-7a89-4802-86a3-bf07159ea283",
   "metadata": {},
   "outputs": [
    {
     "data": {
      "text/plain": [
       "[29, 23, 19, 17, 13, 11, 7, 5, 3, 2]"
      ]
     },
     "execution_count": 36,
     "metadata": {},
     "output_type": "execute_result"
    }
   ],
   "source": [
    "primelist1[-10:]"
   ]
  },
  {
   "cell_type": "code",
   "execution_count": 37,
   "id": "50cc3384-5d88-44ae-a323-8689e0e0e294",
   "metadata": {},
   "outputs": [
    {
     "data": {
      "text/plain": [
       "[19, 17, 13, 11, 7, 5, 3, 2, 1, 0]"
      ]
     },
     "execution_count": 37,
     "metadata": {},
     "output_type": "execute_result"
    }
   ],
   "source": [
    "primelist[-10:]"
   ]
  }
 ],
 "metadata": {
  "kernelspec": {
   "display_name": "Python 3 (ipykernel)",
   "language": "python",
   "name": "python3"
  },
  "language_info": {
   "codemirror_mode": {
    "name": "ipython",
    "version": 3
   },
   "file_extension": ".py",
   "mimetype": "text/x-python",
   "name": "python",
   "nbconvert_exporter": "python",
   "pygments_lexer": "ipython3",
   "version": "3.9.5"
  }
 },
 "nbformat": 4,
 "nbformat_minor": 5
}
