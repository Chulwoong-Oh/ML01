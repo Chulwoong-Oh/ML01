{
 "cells": [
  {
   "cell_type": "code",
   "execution_count": 9,
   "id": "446b86a6-3142-485b-a99f-a2892c7f9b76",
   "metadata": {},
   "outputs": [
    {
     "data": {
      "text/plain": [
       "<module 'Library.Rawdata_stack' from 'F:\\\\my_documnet_F\\\\Library\\\\Rawdata_stack.py'>"
      ]
     },
     "execution_count": 9,
     "metadata": {},
     "output_type": "execute_result"
    }
   ],
   "source": [
    "from IPython.core.interactiveshell import InteractiveShell\n",
    "InteractiveShell.ast_node_interactivity = 'last' #all last\n",
    "\n",
    "import pandas as pd\n",
    "import numpy as np\n",
    "import os, sys\n",
    "sys.path.append('F:\\my_documnet_F')\n",
    "sys.path.append('C:\\Program Files\\Java\\jdk-18.0.2.1\\bin\\server')\n",
    "import matplotlib.pyplot as plt\n",
    "%matplotlib inline\n",
    "import matplotlib.cm as cm\n",
    "from importlib import reload\n",
    "plt=reload(plt)\n",
    "import matplotlib.dates as mdates\n",
    "from datetime import datetime, timedelta\n",
    "import datetime\n",
    "import seaborn as sns\n",
    "from scipy import sparse\n",
    "# import mglearn\n",
    "\n",
    "from konlpy.tag import Okt\n",
    "import graphviz\n",
    "from sklearn.tree import export_graphviz\n",
    "from sklearn.tree import DecisionTreeClassifier\n",
    "from sklearn.ensemble import RandomForestClassifier \n",
    "from sklearn.model_selection import train_test_split\n",
    "from sklearn.metrics import accuracy_score\n",
    "from sklearn.linear_model import LogisticRegression\n",
    "from sklearn.metrics import accuracy_score, precision_score, recall_score, f1_score\n",
    "from sklearn.metrics import confusion_matrix\n",
    "from sklearn.metrics import roc_curve, roc_auc_score\n",
    "from sklearn.model_selection import KFold\n",
    "from sklearn.feature_extraction.text import CountVectorizer\n",
    "from sklearn.feature_extraction.text import TfidfTransformer\n",
    "from sklearn.model_selection import train_test_split\n",
    "\n",
    "from selenium import webdriver\n",
    "from selenium.webdriver.common.by import By\n",
    "from bs4 import BeautifulSoup\n",
    "import re, logging\n",
    "from logging.handlers import RotatingFileHandler\n",
    "import time\n",
    "\n",
    "import warnings\n",
    "warnings.filterwarnings(\"ignore\")\n",
    "\n",
    "#Auto reloads notebook when changes are made\n",
    "%reload_ext autoreload\n",
    "%autoreload 2\n",
    "import matplotlib.ticker as ticker\n",
    "\n",
    "import imp\n",
    "import Library.Rawdata_stack as rawstack\n",
    "imp.reload(rawstack)"
   ]
  },
  {
   "cell_type": "code",
   "execution_count": 2,
   "id": "c6592c02-da9c-4744-8bb0-ec7f29c5b585",
   "metadata": {},
   "outputs": [
    {
     "name": "stdout",
     "output_type": "stream",
     "text": [
      "https://place.map.kakao.com/27254228\n",
      "https://place.map.kakao.com/1844312235\n",
      "https://place.map.kakao.com/26921715\n",
      "https://place.map.kakao.com/21155020\n",
      "https://place.map.kakao.com/21442694\n",
      "https://place.map.kakao.com/1123017733\n",
      "https://place.map.kakao.com/2024917014\n",
      "https://place.map.kakao.com/25702695\n",
      "https://place.map.kakao.com/8008437\n",
      "https://place.map.kakao.com/16062979\n",
      "https://place.map.kakao.com/8504621\n",
      "https://place.map.kakao.com/1041883963\n",
      "https://place.map.kakao.com/101140689\n",
      "https://place.map.kakao.com/16705705\n",
      "https://place.map.kakao.com/439888952\n",
      "https://place.map.kakao.com/27254228\n",
      "https://place.map.kakao.com/1844312235\n",
      "https://place.map.kakao.com/26921715\n",
      "https://place.map.kakao.com/21155020\n",
      "https://place.map.kakao.com/21442694\n",
      "https://place.map.kakao.com/1123017733\n",
      "https://place.map.kakao.com/2024917014\n",
      "https://place.map.kakao.com/25702695\n",
      "https://place.map.kakao.com/8008437\n",
      "https://place.map.kakao.com/16062979\n",
      "https://place.map.kakao.com/8504621\n",
      "https://place.map.kakao.com/1041883963\n",
      "https://place.map.kakao.com/101140689\n",
      "https://place.map.kakao.com/16705705\n",
      "https://place.map.kakao.com/439888952\n"
     ]
    }
   ],
   "source": [
    "# brew 로 설치된 chromedriver의 path (Mac)\n",
    "# path = \"./chromedriver\"\n",
    "\n",
    "# 윈도우용 크롬 웹드라이버 실행 경로 (Windows)\n",
    "path = \"F:/my_documnet_F/crawring/chromedriver/chromedriver.exe\"\n",
    "\n",
    "# 크롤링할 사이트 주소를 정의합니다.\n",
    "source_url = \"https://map.kakao.com/\"\n",
    "\n",
    "# 크롬 드라이버를 사용합니다 (맥은 첫 줄, 윈도우는 두번째 줄 실행)\n",
    "# driver = webdriver.Chrome(path)\n",
    "driver = webdriver.Chrome(path)\n",
    "\n",
    "# 카카오 지도에 접속합니다\n",
    "driver.get(source_url)\n",
    "\n",
    "# 검색창에 검색어를 입력합니다\n",
    "searchbox = driver.find_element(By.XPATH, \"//input[@id='search.keyword.query']\")\n",
    "# searchbox.send_keys(\"강남역 고기집\")\n",
    "searchbox.send_keys(\"강남역 횟집\")\n",
    "\n",
    "# 검색버튼을 눌러서 결과를 가져옵니다\n",
    "searchbutton = driver.find_element(By.XPATH, \"//button[@id='search.keyword.submit']\")\n",
    "driver.execute_script(\"arguments[0].click();\", searchbutton)\n",
    "\n",
    "# 검색 결과를 가져올 시간을 기다립니다\n",
    "time.sleep(2)\n",
    "\n",
    "# /html/body/div[5]/div[2]/div[1]/div[7]/div[5]/a\n",
    "# for i in range(3):\n",
    "#     try:\n",
    "#         another_reviews = driver.find_element(By.XPATH,\"/html/body/div[5]/div[2]/div[1]/div[7]/div[5]/a\")\n",
    "#         another_reviews.click()\n",
    "#         time.sleep(1)\n",
    "#         # break\n",
    "#     except:\n",
    "#         continue\n",
    "\n",
    "# 검색 결과의 페이지 소스를 가져옵니다\n",
    "html = driver.page_source\n",
    "\n",
    "# BeautifulSoup을 이용하여 html 정보를 파싱합니다\n",
    "soup = BeautifulSoup(html, \"html.parser\")\n",
    "moreviews = soup.find_all(name=\"a\", attrs={\"class\":\"moreview\"})\n",
    "\n",
    "# a태그의 href 속성을 리스트로 추출하여, 크롤링 할 페이지 리스트를 생성합니다.\n",
    "page_urls = []\n",
    "for moreview in moreviews:\n",
    "    page_url = moreview.get(\"href\")\n",
    "    print(page_url)\n",
    "    page_urls.append(page_url)\n",
    "\n",
    "try:\n",
    "    another_reviews = driver.find_element(By.XPATH,\"/html/body/div[5]/div[2]/div[1]/div[7]/div[5]/a\")\n",
    "    another_reviews.click()\n",
    "    time.sleep(1)\n",
    "    # break\n",
    "except:\n",
    "    next    \n",
    "\n",
    "# 검색 결과의 페이지 소스를 가져옵니다\n",
    "html = driver.page_source\n",
    "\n",
    "# BeautifulSoup을 이용하여 html 정보를 파싱합니다\n",
    "soup = BeautifulSoup(html, \"html.parser\")\n",
    "moreviews = soup.find_all(name=\"a\", attrs={\"class\":\"moreview\"})    \n",
    "\n",
    "for moreview in moreviews:\n",
    "    page_url = moreview.get(\"href\")\n",
    "    print(page_url)\n",
    "    page_urls.append(page_url)\n",
    "# 크롤링에 사용한 브라우저를 종료합니다.\n",
    "driver.close()"
   ]
  },
  {
   "cell_type": "code",
   "execution_count": 3,
   "id": "3db92879-ed90-4a61-8f97-b4d283361d08",
   "metadata": {
    "tags": []
   },
   "outputs": [],
   "source": [
    "columns = ['score', 'review']\n",
    "df_shop = pd.DataFrame(columns=columns)\n",
    "dic_shop = {}\n",
    "\n",
    "# driver = webdriver.Chrome(path)  # for Mac\n",
    "driver = webdriver.Chrome(executable_path=path)  # for Windows\n",
    "for page_url in page_urls:\n",
    "    \n",
    "    # 상세보기 페이지에 접속합니다\n",
    "    driver.get(page_url)\n",
    "    time.sleep(2)\n",
    "    \n",
    "    # 첫 페이지 리뷰를 크롤링합니다\n",
    "    html = driver.page_source\n",
    "    soup = BeautifulSoup(html, 'html.parser')\n",
    "#     contents_div = soup.find(name=\"div\", attrs={\"class\":\"ahead_info\"})\n",
    "    mailshop = soup.find(name=\"div\", attrs={\"class\":\"inner_place\"}).find_all('h2')[0].get_text()\n",
    "    dic_shop[mailshop] = [page_url]\n",
    "    \n",
    "    for k in range(3):    \n",
    "        for i in [7, 8]:\n",
    "            for j in [2, 3]:\n",
    "                try:\n",
    "                    another_reviews = driver.find_element(By.XPATH,\"/html/body/div[2]/div[2]/div[2]/div[\" + str(i) + \"]/div[\" + str(j) + \"]/a/span[1]\")\n",
    "                    another_reviews.click()\n",
    "                    time.sleep(1)\n",
    "                    break\n",
    "                except:\n",
    "                    continue\n",
    "                \n",
    "    html = driver.page_source\n",
    "    soup = BeautifulSoup(html, 'html.parser')\n",
    "\n",
    "    try:\n",
    "        contents_list = soup.find(name=\"div\", attrs={\"class\":\"evaluation_review\"}).find_all('li')\n",
    "    except:\n",
    "        continue\n",
    "    \n",
    "    for i, k in enumerate(contents_list):\n",
    "        # print(i)\n",
    "        try:\n",
    "            score = k.find('div', attrs={'class':'unit_info'}).find_all('span', attrs={'class':'txt_desc'})[1].get_text()\n",
    "        except:\n",
    "            score = ''\n",
    "        # print(score)\n",
    "        try:\n",
    "            comment = k.find('div', attrs={'class':'comment_info'}).find_all(name=\"p\", attrs={\"class\":\"txt_comment\"})[0].get_text() # url\n",
    "        except:\n",
    "            comment = ''\n",
    "        # print(score, comment)\n",
    "        dic_shop[mailshop].append([score, comment])\n",
    "            \n",
    "        "
   ]
  },
  {
   "cell_type": "code",
   "execution_count": 4,
   "id": "dfdc9e00-ddcf-4e79-bfc1-55eb70773d76",
   "metadata": {
    "tags": []
   },
   "outputs": [],
   "source": [
    "columns = ['shop_name', 'url', 'score', 'comment']\n",
    "df_shop = pd.DataFrame(columns=columns)"
   ]
  },
  {
   "cell_type": "code",
   "execution_count": 5,
   "id": "9acfb6a4-d321-4b31-9753-92e1e2daaad9",
   "metadata": {
    "tags": []
   },
   "outputs": [],
   "source": [
    "for i, k in enumerate(dic_shop.keys()):\n",
    "    for j, l in enumerate(dic_shop[k]):\n",
    "        # print(l, k)\n",
    "        if j == 0:\n",
    "            url_shop = l\n",
    "            continue\n",
    "        # df_shop.iloc[[i * j - 1], [0]] = k\n",
    "        # df_shop.iloc[[i * j - 1], [1]] = url_shop\n",
    "        # df_shop.iloc[[i * j - 1], [2]] = l[0]\n",
    "        # df_shop.iloc[[i * j - 1], [3]] = l[1]\n",
    "        row = [k, url_shop, l[0], l[1]]\n",
    "        series = pd.Series(row, index=df_shop.columns)\n",
    "        df_shop = df_shop.append(series, ignore_index=True)\n"
   ]
  },
  {
   "cell_type": "code",
   "execution_count": 6,
   "id": "538b3bdb-e00b-49c7-99ba-2cda5e0cd38d",
   "metadata": {},
   "outputs": [],
   "source": [
    "df_shop['score'] = df_shop['score'].replace('', np.nan).astype(float)\n",
    "df_shop = df_shop[~df_shop['score'].isna()]"
   ]
  },
  {
   "cell_type": "code",
   "execution_count": 7,
   "id": "a4e29c4c-69ba-4b48-b5f1-9c1afb35d8d8",
   "metadata": {},
   "outputs": [
    {
     "data": {
      "text/html": [
       "<div>\n",
       "<style scoped>\n",
       "    .dataframe tbody tr th:only-of-type {\n",
       "        vertical-align: middle;\n",
       "    }\n",
       "\n",
       "    .dataframe tbody tr th {\n",
       "        vertical-align: top;\n",
       "    }\n",
       "\n",
       "    .dataframe thead th {\n",
       "        text-align: right;\n",
       "    }\n",
       "</style>\n",
       "<table border=\"1\" class=\"dataframe\">\n",
       "  <thead>\n",
       "    <tr style=\"text-align: right;\">\n",
       "      <th></th>\n",
       "      <th>shop_name</th>\n",
       "      <th>url</th>\n",
       "      <th>score</th>\n",
       "      <th>ko_text</th>\n",
       "    </tr>\n",
       "  </thead>\n",
       "  <tbody>\n",
       "    <tr>\n",
       "      <th>0</th>\n",
       "      <td>자매수산 1호점</td>\n",
       "      <td>https://place.map.kakao.com/27254228</td>\n",
       "      <td>3.5</td>\n",
       "      <td>회에서 가시가 계속 나왔다 싸다고 넘어갈 가격도 아니니 그냥 아예 저렴함 곳 가거나...</td>\n",
       "    </tr>\n",
       "    <tr>\n",
       "      <th>2</th>\n",
       "      <td>자매수산 1호점</td>\n",
       "      <td>https://place.map.kakao.com/27254228</td>\n",
       "      <td>4.5</td>\n",
       "      <td>더보기</td>\n",
       "    </tr>\n",
       "    <tr>\n",
       "      <th>5</th>\n",
       "      <td>자매수산 1호점</td>\n",
       "      <td>https://place.map.kakao.com/27254228</td>\n",
       "      <td>3.9</td>\n",
       "      <td>방어가 그립다더보기</td>\n",
       "    </tr>\n",
       "    <tr>\n",
       "      <th>8</th>\n",
       "      <td>만원수산</td>\n",
       "      <td>https://place.map.kakao.com/1844312235</td>\n",
       "      <td>3.6</td>\n",
       "      <td>회 나쁘지 않고 술도 싼편 강남역 횟집중에서 가성비가 상당히 괜찮은 곳임더보기</td>\n",
       "    </tr>\n",
       "    <tr>\n",
       "      <th>10</th>\n",
       "      <td>만원수산</td>\n",
       "      <td>https://place.map.kakao.com/1844312235</td>\n",
       "      <td>4.3</td>\n",
       "      <td>더보기</td>\n",
       "    </tr>\n",
       "  </tbody>\n",
       "</table>\n",
       "</div>"
      ],
      "text/plain": [
       "   shop_name                                     url  score  \\\n",
       "0   자매수산 1호점    https://place.map.kakao.com/27254228    3.5   \n",
       "2   자매수산 1호점    https://place.map.kakao.com/27254228    4.5   \n",
       "5   자매수산 1호점    https://place.map.kakao.com/27254228    3.9   \n",
       "8       만원수산  https://place.map.kakao.com/1844312235    3.6   \n",
       "10      만원수산  https://place.map.kakao.com/1844312235    4.3   \n",
       "\n",
       "                                              ko_text  \n",
       "0   회에서 가시가 계속 나왔다 싸다고 넘어갈 가격도 아니니 그냥 아예 저렴함 곳 가거나...  \n",
       "2                                                 더보기  \n",
       "5                                          방어가 그립다더보기  \n",
       "8         회 나쁘지 않고 술도 싼편 강남역 횟집중에서 가성비가 상당히 괜찮은 곳임더보기  \n",
       "10                                                더보기  "
      ]
     },
     "execution_count": 7,
     "metadata": {},
     "output_type": "execute_result"
    }
   ],
   "source": [
    "# 함수를 적용하여 리뷰에서 한글만 추출합니다.\n",
    "\n",
    "df_shop['ko_text'] = df_shop['comment'].apply(lambda x: rawstack.text_cleaning(x))\n",
    "del df_shop['comment']\n",
    "\n",
    "# 한 글자 이상의 텍스트를 가지고 있는 데이터만 추출합니다\n",
    "# df_shop = df_shop[df_shop['ko_text'].str.len() > 0]\n",
    "df_shop.head()"
   ]
  },
  {
   "cell_type": "code",
   "execution_count": 52,
   "id": "2bd7d79d-88c8-487b-8819-89f74a384674",
   "metadata": {},
   "outputs": [
    {
     "name": "stdout",
     "output_type": "stream",
     "text": [
      "['회/Noun', '나쁘지/Adjective', '않고/Verb', '술/Noun', '도/Josa', '싼/Verb', '편/Noun', '강남역/Noun', '횟집/Noun', '중/Suffix', '에서/Josa', '가성/Noun', '비/Noun', '가/Josa', '상당히/Adjective', '괜찮은/Adjective', '곳임더/Noun', '보기/Noun']\n"
     ]
    }
   ],
   "source": [
    "# 형태소 추출 동작을 테스트합니다.\n",
    "result = rawstack.get_pos(df_shop['ko_text'].values[3])\n",
    "print(result)"
   ]
  },
  {
   "cell_type": "code",
   "execution_count": 53,
   "id": "60ef6d78-4ef1-4721-b8d1-adb2ec7453e5",
   "metadata": {},
   "outputs": [],
   "source": [
    "# 형태소를 벡터 형태의 학습 데이터셋(X 데이터)으로 변환합니다.\n",
    "index_vectorizer = CountVectorizer(tokenizer = lambda x: rawstack.get_pos(x))\n",
    "X = index_vectorizer.fit_transform(df_shop['ko_text'].tolist())"
   ]
  },
  {
   "cell_type": "code",
   "execution_count": 54,
   "id": "a8363c4c-d52b-4008-9793-c5ae9cd38612",
   "metadata": {},
   "outputs": [],
   "source": [
    "# TF-IDF 방법으로, 형태소를 벡터 형태의 학습 데이터셋(X 데이터)으로 변환합니다.\n",
    "tfidf_vectorizer = TfidfTransformer()\n",
    "X = tfidf_vectorizer.fit_transform(X)"
   ]
  },
  {
   "cell_type": "code",
   "execution_count": 55,
   "id": "6d221d22-5252-4347-a020-7b9aabc3064c",
   "metadata": {},
   "outputs": [],
   "source": [
    "df_shop['y'] = df_shop['score'].apply(lambda x: 1 if x > 3.5 else 0)\n",
    "\n",
    "y = df_shop['y']\n",
    "x_train, x_test, y_train, y_test = train_test_split(X, y, test_size=0.30)"
   ]
  },
  {
   "cell_type": "code",
   "execution_count": 56,
   "id": "316f6780-8042-4c94-afb3-e37664e35d76",
   "metadata": {},
   "outputs": [
    {
     "name": "stdout",
     "output_type": "stream",
     "text": [
      "accuracy: 0.55\n",
      "Precision : 0.571\n",
      "Recall : 0.364\n",
      "F1 : 0.444\n"
     ]
    }
   ],
   "source": [
    "# 로지스틱 회귀모델을 학습합니다.\n",
    "lr = LogisticRegression(random_state=0)\n",
    "lr.fit(x_train, y_train)\n",
    "y_pred = lr.predict(x_test)\n",
    "y_pred_probability = lr.predict_proba(x_test)[:,1]\n",
    "\n",
    "# 로지스틱 회귀모델의 성능을 평가합니다.\n",
    "print(\"accuracy: %.2f\" % accuracy_score(y_test, y_pred))\n",
    "print(\"Precision : %.3f\" % precision_score(y_test, y_pred))\n",
    "print(\"Recall : %.3f\" % recall_score(y_test, y_pred))\n",
    "print(\"F1 : %.3f\" % f1_score(y_test, y_pred))"
   ]
  },
  {
   "cell_type": "code",
   "execution_count": 57,
   "id": "00ab9d29-cce4-4542-b476-f1ccce4c15f7",
   "metadata": {},
   "outputs": [
    {
     "name": "stdout",
     "output_type": "stream",
     "text": [
      "[[8 3]\n",
      " [7 4]]\n"
     ]
    }
   ],
   "source": [
    "# Confusion Matrix를 출력합니다.\n",
    "confmat = confusion_matrix(y_true=y_test, y_pred=y_pred)\n",
    "print(confmat)"
   ]
  },
  {
   "cell_type": "code",
   "execution_count": 58,
   "id": "372a1b27-519e-4082-b6a4-eb5f7a929ed5",
   "metadata": {},
   "outputs": [
    {
     "name": "stdout",
     "output_type": "stream",
     "text": [
      "AUC : 0.512\n"
     ]
    },
    {
     "data": {
      "text/plain": [
       "<matplotlib.legend.Legend at 0x13614e8cc70>"
      ]
     },
     "execution_count": 58,
     "metadata": {},
     "output_type": "execute_result"
    },
    {
     "data": {
      "image/png": "[encoded data removed]",
      "text/plain": [
       "<Figure size 360x288 with 1 Axes>"
      ]
     },
     "metadata": {
      "needs_background": "light"
     },
     "output_type": "display_data"
    }
   ],
   "source": [
    "# AUC를 계산합니다.\n",
    "false_positive_rate, true_positive_rate, thresholds = roc_curve(y_test, y_pred_probability)\n",
    "roc_auc = roc_auc_score(y_test, y_pred_probability)\n",
    "print(\"AUC : %.3f\" % roc_auc)\n",
    "\n",
    "# ROC curve 그래프를 출력합니다.\n",
    "plt.rcParams['figure.figsize'] = [5, 4]\n",
    "plt.plot(false_positive_rate, true_positive_rate, label='ROC curve (area = %0.3f)' % roc_auc, \n",
    "         color='red', linewidth=4.0)\n",
    "plt.plot([0, 1], [0, 1], 'k--')\n",
    "plt.xlim([0.0, 1.0])\n",
    "plt.ylim([0.0, 1.0])\n",
    "plt.xlabel('False Positive Rate')\n",
    "plt.ylabel('True Positive Rate')\n",
    "plt.title('ROC curve of Logistic regression')\n",
    "plt.legend(loc=\"lower right\")"
   ]
  },
  {
   "cell_type": "code",
   "execution_count": 59,
   "id": "b9539013-2f71-4337-a192-17b6ef554f0d",
   "metadata": {},
   "outputs": [
    {
     "data": {
      "text/plain": [
       "<BarContainer object of 1129 artists>"
      ]
     },
     "execution_count": 59,
     "metadata": {},
     "output_type": "execute_result"
    },
    {
     "data": {
      "image/png": "[encoded data removed]",
      "text/plain": [
       "<Figure size 720x576 with 1 Axes>"
      ]
     },
     "metadata": {
      "needs_background": "light"
     },
     "output_type": "display_data"
    }
   ],
   "source": [
    "# 학습한 회귀 모델의 계수를 출력합니다.\n",
    "plt.rcParams['figure.figsize'] = [10, 8]\n",
    "plt.bar(range(len(lr.coef_[0])), lr.coef_[0])"
   ]
  },
  {
   "cell_type": "code",
   "execution_count": 60,
   "id": "ab9289af-dce1-4d34-90ff-f51226104021",
   "metadata": {},
   "outputs": [],
   "source": [
    "# 회귀 모델의 계수를 높은 순으로 정렬합니다. \n",
    "coef_pos_index = sorted(((value, index) for index, value in enumerate(lr.coef_[0])), reverse=True)"
   ]
  },
  {
   "cell_type": "code",
   "execution_count": 61,
   "id": "154f78f9-609d-4882-9eb0-72d2ddd534ff",
   "metadata": {},
   "outputs": [
    {
     "name": "stdout",
     "output_type": "stream",
     "text": [
      "{1116: '회/Noun', 712: '에서/Josa', 27: '가시/Noun', 10: '가/Josa', 80: '계속/Noun', 170: '나왔다/Verb', 608: '..\n"
     ]
    }
   ],
   "source": [
    "# 회귀 모델의 계수를 index_vectorizer에 맵핑하여, 어떤 형태소인지 출력할 수 있게 합니다.\n",
    "invert_index_vectorizer = {v: k for k, v in index_vectorizer.vocabulary_.items()}\n",
    "\n",
    "# 계수가 높은 순으로, 피처에 형태소를 맵핑한 결과를 출력합니다. 계수가 높은 피처는 리뷰에 긍정적인 영향을 주는 형태소라고 할 수 있습니다.\n",
    "print(str(invert_index_vectorizer)[:100]+'..')"
   ]
  },
  {
   "cell_type": "code",
   "execution_count": 62,
   "id": "ef1a93f6-f08f-44c3-9bcd-13eeb359b379",
   "metadata": {},
   "outputs": [
    {
     "name": "stdout",
     "output_type": "stream",
     "text": [
      "보기/Noun 0.8381084330278633\n",
      "더/Noun 0.8210189062423867\n",
      "좋아/Adjective 0.29631322443586666\n",
      "용더/Verb 0.29631322443586666\n",
      "무난/Noun 0.23003357966230634\n",
      "가리비/Noun 0.22867797288839525\n",
      "술/Noun 0.21985643283369488\n",
      "나와서/Verb 0.2153321998949348\n",
      "않은/Verb 0.20847598850118707\n",
      "도/Noun 0.19726797920366088\n",
      "최고/Noun 0.1960507421933841\n",
      "회더/Noun 0.1868840530043213\n",
      "다양한/Adjective 0.1868840530043213\n",
      "고등어/Noun 0.1868840530043213\n",
      "은/Josa 0.18133360651871858\n",
      "ㅠ/KoreanParticle 0.1776741986560794\n",
      "탕/Noun 0.1741298598902416\n",
      "곳/Noun 0.17076246539008325\n",
      "비/Noun 0.1662891812355671\n",
      "중/Suffix 0.1577951244566447\n"
     ]
    }
   ],
   "source": [
    "# 상위 20개 긍정 형태소를 출력합니다.\n",
    "for coef in coef_pos_index[:20]:\n",
    "    print(invert_index_vectorizer[coef[1]], coef[0])"
   ]
  },
  {
   "cell_type": "code",
   "execution_count": 63,
   "id": "790a4ecf-3d9c-439e-87ed-baa07d5ba3c3",
   "metadata": {},
   "outputs": [
    {
     "name": "stdout",
     "output_type": "stream",
     "text": [
      "마쓰/Noun -0.16472426124343562\n",
      "괜찮습니다/Adjective -0.16472426124343562\n",
      "했는데/Verb -0.16948114473210132\n",
      "매운탕/Noun -0.17392620565333278\n",
      "너무/Adverb -0.17938252389364331\n",
      "밥/Noun -0.18153820286365863\n",
      "친구/Noun -0.18192615243986285\n",
      "들/Suffix -0.18212350809554456\n",
      "에/Josa -0.18376774881320015\n",
      "세/Noun -0.18634705332120582\n",
      "아예/Noun -0.19107582435343945\n",
      "술맛나/Noun -0.19248820333439656\n",
      "별/Modifier -0.2082596651434844\n",
      "서/Josa -0.2165410399310784\n",
      "참돔/Noun -0.2189150713848262\n",
      "를/Josa -0.23322403325111632\n",
      "입니다/Adjective -0.23522598292643437\n",
      "좋은/Adjective -0.23532727593144012\n",
      "안/VerbPrefix -0.31213263821717696\n",
      "굳이/Noun -0.41327001180894063\n"
     ]
    }
   ],
   "source": [
    "# 상위 20개 부정 형태소를 출력합니다.\n",
    "for coef in coef_pos_index[-20:]:\n",
    "    print(invert_index_vectorizer[coef[1]], coef[0])"
   ]
  },
  {
   "cell_type": "code",
   "execution_count": 64,
   "id": "29ebdd54-2380-4384-b235-c6150de559de",
   "metadata": {},
   "outputs": [],
   "source": [
    "noun_list = []\n",
    "adjective_list = []\n",
    "\n",
    "# 명사, 형용사별로 계수가 높은 상위 10개의 형태소를 추출합니다. 이는 리뷰에 긍정적인 영향을 주는 명사와 형용사를 순위별로 살펴보는 것이 됩니다.\n",
    "for coef in coef_pos_index[:100]:\n",
    "    pos_category = invert_index_vectorizer[coef[1]].split(\"/\")[1]\n",
    "    if pos_category == \"Noun\":\n",
    "        noun_list.append((invert_index_vectorizer[coef[1]], coef[0]))\n",
    "    elif pos_category == \"Adjective\":\n",
    "        adjective_list.append((invert_index_vectorizer[coef[1]], coef[0]))"
   ]
  },
  {
   "cell_type": "code",
   "execution_count": 65,
   "id": "e080b66c-2ce6-4e02-8396-2b931402e44e",
   "metadata": {},
   "outputs": [
    {
     "data": {
      "text/plain": [
       "[('보기/Noun', 0.8381084330278633),\n",
       " ('더/Noun', 0.8210189062423867),\n",
       " ('무난/Noun', 0.23003357966230634),\n",
       " ('가리비/Noun', 0.22867797288839525),\n",
       " ('술/Noun', 0.21985643283369488),\n",
       " ('도/Noun', 0.19726797920366088),\n",
       " ('최고/Noun', 0.1960507421933841),\n",
       " ('회더/Noun', 0.1868840530043213),\n",
       " ('고등어/Noun', 0.1868840530043213),\n",
       " ('탕/Noun', 0.1741298598902416)]"
      ]
     },
     "execution_count": 65,
     "metadata": {},
     "output_type": "execute_result"
    }
   ],
   "source": [
    "# 상위 10개의 명사를 출력합니다.\n",
    "noun_list[:10]"
   ]
  },
  {
   "cell_type": "code",
   "execution_count": 66,
   "id": "5b41ef1b-2d63-47b7-b4cf-6abaf5380a62",
   "metadata": {},
   "outputs": [
    {
     "data": {
      "text/plain": [
       "[('좋아/Adjective', 0.29631322443586666),\n",
       " ('다양한/Adjective', 0.1868840530043213),\n",
       " ('나쁘지/Adjective', 0.1380437690152698),\n",
       " ('괜찮은/Adjective', 0.1380437690152698),\n",
       " ('비싼듯/Adjective', 0.12610603450721775),\n",
       " ('그래요/Adjective', 0.12536288129080475),\n",
       " ('있는/Adjective', 0.12071051593075854),\n",
       " ('그렇고/Adjective', 0.11971529652798882),\n",
       " ('괜찮긴/Adjective', 0.11971529652798882),\n",
       " ('괜찮아요/Adjective', 0.11501678983115317)]"
      ]
     },
     "execution_count": 66,
     "metadata": {},
     "output_type": "execute_result"
    }
   ],
   "source": [
    "# 상위 10개의 형용사를 출력합니다.\n",
    "adjective_list[:10]"
   ]
  },
  {
   "cell_type": "code",
   "execution_count": 67,
   "id": "73a2de3b-be89-4172-80d3-397bf8d87dba",
   "metadata": {},
   "outputs": [
    {
     "data": {
      "text/plain": [
       "[('연어/Noun', 0.10882666177381654),\n",
       " ('육질/Noun', 0.10825486156510283),\n",
       " ('아주/Noun', 0.10825486156510283),\n",
       " ('물고기/Noun', 0.10825486156510283),\n",
       " ('매우/Noun', 0.10825486156510283),\n",
       " ('다음/Noun', 0.10825486156510283),\n",
       " ('기회/Noun', 0.10825486156510283),\n",
       " ('기대/Noun', 0.10825486156510283),\n",
       " ('고기/Noun', 0.10825486156510283),\n",
       " ('구이/Noun', 0.10718207836439549)]"
      ]
     },
     "execution_count": 67,
     "metadata": {},
     "output_type": "execute_result"
    }
   ],
   "source": [
    "noun_list[-10:]"
   ]
  },
  {
   "cell_type": "code",
   "execution_count": 68,
   "id": "7f934d93-78b0-4fc6-ba6f-9c34e4dc99e8",
   "metadata": {},
   "outputs": [
    {
     "data": {
      "text/plain": [
       "[('좋았던것/Adjective', 0.11073038709487498),\n",
       " ('안되는지/Adjective', 0.11073038709487498),\n",
       " ('같음/Adjective', 0.11073038709487498),\n",
       " ('부실한/Adjective', 0.10886072475074245),\n",
       " ('부담스러웠다/Adjective', 0.10886072475074245),\n",
       " ('딱히/Adjective', 0.10886072475074245),\n",
       " ('깔끔하지도/Adjective', 0.10886072475074245),\n",
       " ('그랬습니다/Adjective', 0.10886072475074245),\n",
       " ('좋음/Adjective', 0.10825486156510283),\n",
       " ('급하기/Adjective', 0.10825486156510283)]"
      ]
     },
     "execution_count": 68,
     "metadata": {},
     "output_type": "execute_result"
    }
   ],
   "source": [
    "adjective_list[-10:]"
   ]
  }
 ],
 "metadata": {
  "kernelspec": {
   "display_name": "Python 3 (ipykernel)",
   "language": "python",
   "name": "python3"
  },
  "language_info": {
   "codemirror_mode": {
    "name": "ipython",
    "version": 3
   },
   "file_extension": ".py",
   "mimetype": "text/x-python",
   "name": "python",
   "nbconvert_exporter": "python",
   "pygments_lexer": "ipython3",
   "version": "3.9.5"
  }
 },
 "nbformat": 4,
 "nbformat_minor": 5
}
