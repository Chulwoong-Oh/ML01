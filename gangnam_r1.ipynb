{
 "cells": [
  {
   "cell_type": "code",
   "execution_count": 9,
   "id": "446b86a6-3142-485b-a99f-a2892c7f9b76",
   "metadata": {},
   "outputs": [
    {
     "data": {
      "text/plain": [
       "<module 'Library.Rawdata_stack' from 'F:\\\\my_documnet_F\\\\Library\\\\Rawdata_stack.py'>"
      ]
     },
     "execution_count": 9,
     "metadata": {},
     "output_type": "execute_result"
    }
   ],
   "source": [
    "from IPython.core.interactiveshell import InteractiveShell\n",
    "InteractiveShell.ast_node_interactivity = 'last' #all last\n",
    "\n",
    "import pandas as pd\n",
    "import numpy as np\n",
    "import os, sys\n",
    "sys.path.append('F:\\my_documnet_F')\n",
    "sys.path.append('C:\\Program Files\\Java\\jdk-18.0.2.1\\bin\\server')\n",
    "import matplotlib.pyplot as plt\n",
    "%matplotlib inline\n",
    "import matplotlib.cm as cm\n",
    "from importlib import reload\n",
    "plt=reload(plt)\n",
    "import matplotlib.dates as mdates\n",
    "from datetime import datetime, timedelta\n",
    "import datetime\n",
    "import seaborn as sns\n",
    "from scipy import sparse\n",
    "# import mglearn\n",
    "\n",
    "from konlpy.tag import Okt\n",
    "import graphviz\n",
    "from sklearn.tree import export_graphviz\n",
    "from sklearn.tree import DecisionTreeClassifier\n",
    "from sklearn.ensemble import RandomForestClassifier \n",
    "from sklearn.model_selection import train_test_split\n",
    "from sklearn.metrics import accuracy_score\n",
    "from sklearn.linear_model import LogisticRegression\n",
    "from sklearn.metrics import accuracy_score, precision_score, recall_score, f1_score\n",
    "from sklearn.metrics import confusion_matrix\n",
    "from sklearn.metrics import roc_curve, roc_auc_score\n",
    "from sklearn.model_selection import KFold\n",
    "from sklearn.feature_extraction.text import CountVectorizer\n",
    "\n",
    "from selenium import webdriver\n",
    "from selenium.webdriver.common.by import By\n",
    "from bs4 import BeautifulSoup\n",
    "import re, logging\n",
    "from logging.handlers import RotatingFileHandler\n",
    "import time\n",
    "\n",
    "import warnings\n",
    "warnings.filterwarnings(\"ignore\")\n",
    "\n",
    "#Auto reloads notebook when changes are made\n",
    "%reload_ext autoreload\n",
    "%autoreload 2\n",
    "import matplotlib.ticker as ticker\n",
    "\n",
    "import imp\n",
    "import Library.Rawdata_stack as rawstack\n",
    "imp.reload(rawstack)"
   ]
  },
  {
   "cell_type": "code",
   "execution_count": 2,
   "id": "c6592c02-da9c-4744-8bb0-ec7f29c5b585",
   "metadata": {},
   "outputs": [
    {
     "name": "stdout",
     "output_type": "stream",
     "text": [
      "https://place.map.kakao.com/27254228\n",
      "https://place.map.kakao.com/1844312235\n",
      "https://place.map.kakao.com/26921715\n",
      "https://place.map.kakao.com/21155020\n",
      "https://place.map.kakao.com/21442694\n",
      "https://place.map.kakao.com/1123017733\n",
      "https://place.map.kakao.com/2024917014\n",
      "https://place.map.kakao.com/25702695\n",
      "https://place.map.kakao.com/8008437\n",
      "https://place.map.kakao.com/16062979\n",
      "https://place.map.kakao.com/8504621\n",
      "https://place.map.kakao.com/1041883963\n",
      "https://place.map.kakao.com/101140689\n",
      "https://place.map.kakao.com/16705705\n",
      "https://place.map.kakao.com/439888952\n",
      "https://place.map.kakao.com/27254228\n",
      "https://place.map.kakao.com/1844312235\n",
      "https://place.map.kakao.com/26921715\n",
      "https://place.map.kakao.com/21155020\n",
      "https://place.map.kakao.com/21442694\n",
      "https://place.map.kakao.com/1123017733\n",
      "https://place.map.kakao.com/2024917014\n",
      "https://place.map.kakao.com/25702695\n",
      "https://place.map.kakao.com/8008437\n",
      "https://place.map.kakao.com/16062979\n",
      "https://place.map.kakao.com/8504621\n",
      "https://place.map.kakao.com/1041883963\n",
      "https://place.map.kakao.com/101140689\n",
      "https://place.map.kakao.com/16705705\n",
      "https://place.map.kakao.com/439888952\n"
     ]
    }
   ],
   "source": [
    "# brew 로 설치된 chromedriver의 path (Mac)\n",
    "# path = \"./chromedriver\"\n",
    "\n",
    "# 윈도우용 크롬 웹드라이버 실행 경로 (Windows)\n",
    "path = \"F:/my_documnet_F/crawring/chromedriver/chromedriver.exe\"\n",
    "\n",
    "# 크롤링할 사이트 주소를 정의합니다.\n",
    "source_url = \"https://map.kakao.com/\"\n",
    "\n",
    "# 크롬 드라이버를 사용합니다 (맥은 첫 줄, 윈도우는 두번째 줄 실행)\n",
    "# driver = webdriver.Chrome(path)\n",
    "driver = webdriver.Chrome(path)\n",
    "\n",
    "# 카카오 지도에 접속합니다\n",
    "driver.get(source_url)\n",
    "\n",
    "# 검색창에 검색어를 입력합니다\n",
    "searchbox = driver.find_element(By.XPATH, \"//input[@id='search.keyword.query']\")\n",
    "# searchbox.send_keys(\"강남역 고기집\")\n",
    "searchbox.send_keys(\"강남역 횟집\")\n",
    "\n",
    "# 검색버튼을 눌러서 결과를 가져옵니다\n",
    "searchbutton = driver.find_element(By.XPATH, \"//button[@id='search.keyword.submit']\")\n",
    "driver.execute_script(\"arguments[0].click();\", searchbutton)\n",
    "\n",
    "# 검색 결과를 가져올 시간을 기다립니다\n",
    "time.sleep(2)\n",
    "\n",
    "# /html/body/div[5]/div[2]/div[1]/div[7]/div[5]/a\n",
    "# for i in range(3):\n",
    "#     try:\n",
    "#         another_reviews = driver.find_element(By.XPATH,\"/html/body/div[5]/div[2]/div[1]/div[7]/div[5]/a\")\n",
    "#         another_reviews.click()\n",
    "#         time.sleep(1)\n",
    "#         # break\n",
    "#     except:\n",
    "#         continue\n",
    "\n",
    "# 검색 결과의 페이지 소스를 가져옵니다\n",
    "html = driver.page_source\n",
    "\n",
    "# BeautifulSoup을 이용하여 html 정보를 파싱합니다\n",
    "soup = BeautifulSoup(html, \"html.parser\")\n",
    "moreviews = soup.find_all(name=\"a\", attrs={\"class\":\"moreview\"})\n",
    "\n",
    "# a태그의 href 속성을 리스트로 추출하여, 크롤링 할 페이지 리스트를 생성합니다.\n",
    "page_urls = []\n",
    "for moreview in moreviews:\n",
    "    page_url = moreview.get(\"href\")\n",
    "    print(page_url)\n",
    "    page_urls.append(page_url)\n",
    "\n",
    "try:\n",
    "    another_reviews = driver.find_element(By.XPATH,\"/html/body/div[5]/div[2]/div[1]/div[7]/div[5]/a\")\n",
    "    another_reviews.click()\n",
    "    time.sleep(1)\n",
    "    # break\n",
    "except:\n",
    "    next    \n",
    "\n",
    "# 검색 결과의 페이지 소스를 가져옵니다\n",
    "html = driver.page_source\n",
    "\n",
    "# BeautifulSoup을 이용하여 html 정보를 파싱합니다\n",
    "soup = BeautifulSoup(html, \"html.parser\")\n",
    "moreviews = soup.find_all(name=\"a\", attrs={\"class\":\"moreview\"})    \n",
    "\n",
    "for moreview in moreviews:\n",
    "    page_url = moreview.get(\"href\")\n",
    "    print(page_url)\n",
    "    page_urls.append(page_url)\n",
    "# 크롤링에 사용한 브라우저를 종료합니다.\n",
    "driver.close()"
   ]
  },
  {
   "cell_type": "code",
   "execution_count": 3,
   "id": "3db92879-ed90-4a61-8f97-b4d283361d08",
   "metadata": {
    "tags": []
   },
   "outputs": [],
   "source": [
    "columns = ['score', 'review']\n",
    "df_shop = pd.DataFrame(columns=columns)\n",
    "dic_shop = {}\n",
    "\n",
    "# driver = webdriver.Chrome(path)  # for Mac\n",
    "driver = webdriver.Chrome(executable_path=path)  # for Windows\n",
    "for page_url in page_urls:\n",
    "    \n",
    "    # 상세보기 페이지에 접속합니다\n",
    "    driver.get(page_url)\n",
    "    time.sleep(2)\n",
    "    \n",
    "    # 첫 페이지 리뷰를 크롤링합니다\n",
    "    html = driver.page_source\n",
    "    soup = BeautifulSoup(html, 'html.parser')\n",
    "#     contents_div = soup.find(name=\"div\", attrs={\"class\":\"ahead_info\"})\n",
    "    mailshop = soup.find(name=\"div\", attrs={\"class\":\"inner_place\"}).find_all('h2')[0].get_text()\n",
    "    dic_shop[mailshop] = [page_url]\n",
    "    \n",
    "    for k in range(3):    \n",
    "        for i in [7, 8]:\n",
    "            for j in [2, 3]:\n",
    "                try:\n",
    "                    another_reviews = driver.find_element(By.XPATH,\"/html/body/div[2]/div[2]/div[2]/div[\" + str(i) + \"]/div[\" + str(j) + \"]/a/span[1]\")\n",
    "                    another_reviews.click()\n",
    "                    time.sleep(1)\n",
    "                    break\n",
    "                except:\n",
    "                    continue\n",
    "                \n",
    "    html = driver.page_source\n",
    "    soup = BeautifulSoup(html, 'html.parser')\n",
    "\n",
    "    try:\n",
    "        contents_list = soup.find(name=\"div\", attrs={\"class\":\"evaluation_review\"}).find_all('li')\n",
    "    except:\n",
    "        continue\n",
    "    \n",
    "    for i, k in enumerate(contents_list):\n",
    "        # print(i)\n",
    "        try:\n",
    "            score = k.find('div', attrs={'class':'unit_info'}).find_all('span', attrs={'class':'txt_desc'})[1].get_text()\n",
    "        except:\n",
    "            score = ''\n",
    "        # print(score)\n",
    "        try:\n",
    "            comment = k.find('div', attrs={'class':'comment_info'}).find_all(name=\"p\", attrs={\"class\":\"txt_comment\"})[0].get_text() # url\n",
    "        except:\n",
    "            comment = ''\n",
    "        # print(score, comment)\n",
    "        dic_shop[mailshop].append([score, comment])\n",
    "            \n",
    "        "
   ]
  },
  {
   "cell_type": "code",
   "execution_count": 4,
   "id": "dfdc9e00-ddcf-4e79-bfc1-55eb70773d76",
   "metadata": {
    "tags": []
   },
   "outputs": [],
   "source": [
    "columns = ['shop_name', 'url', 'score', 'comment']\n",
    "df_shop = pd.DataFrame(columns=columns)"
   ]
  },
  {
   "cell_type": "code",
   "execution_count": 5,
   "id": "9acfb6a4-d321-4b31-9753-92e1e2daaad9",
   "metadata": {
    "tags": []
   },
   "outputs": [],
   "source": [
    "for i, k in enumerate(dic_shop.keys()):\n",
    "    for j, l in enumerate(dic_shop[k]):\n",
    "        # print(l, k)\n",
    "        if j == 0:\n",
    "            url_shop = l\n",
    "            continue\n",
    "        # df_shop.iloc[[i * j - 1], [0]] = k\n",
    "        # df_shop.iloc[[i * j - 1], [1]] = url_shop\n",
    "        # df_shop.iloc[[i * j - 1], [2]] = l[0]\n",
    "        # df_shop.iloc[[i * j - 1], [3]] = l[1]\n",
    "        row = [k, url_shop, l[0], l[1]]\n",
    "        series = pd.Series(row, index=df_shop.columns)\n",
    "        df_shop = df_shop.append(series, ignore_index=True)\n"
   ]
  },
  {
   "cell_type": "code",
   "execution_count": 6,
   "id": "538b3bdb-e00b-49c7-99ba-2cda5e0cd38d",
   "metadata": {},
   "outputs": [],
   "source": [
    "df_shop['score'] = df_shop['score'].replace('', np.nan).astype(float)\n",
    "df_shop = df_shop[~df_shop['score'].isna()]"
   ]
  },
  {
   "cell_type": "code",
   "execution_count": 7,
   "id": "a4e29c4c-69ba-4b48-b5f1-9c1afb35d8d8",
   "metadata": {},
   "outputs": [
    {
     "data": {
      "text/html": [
       "<div>\n",
       "<style scoped>\n",
       "    .dataframe tbody tr th:only-of-type {\n",
       "        vertical-align: middle;\n",
       "    }\n",
       "\n",
       "    .dataframe tbody tr th {\n",
       "        vertical-align: top;\n",
       "    }\n",
       "\n",
       "    .dataframe thead th {\n",
       "        text-align: right;\n",
       "    }\n",
       "</style>\n",
       "<table border=\"1\" class=\"dataframe\">\n",
       "  <thead>\n",
       "    <tr style=\"text-align: right;\">\n",
       "      <th></th>\n",
       "      <th>shop_name</th>\n",
       "      <th>url</th>\n",
       "      <th>score</th>\n",
       "      <th>ko_text</th>\n",
       "    </tr>\n",
       "  </thead>\n",
       "  <tbody>\n",
       "    <tr>\n",
       "      <th>0</th>\n",
       "      <td>자매수산 1호점</td>\n",
       "      <td>https://place.map.kakao.com/27254228</td>\n",
       "      <td>3.5</td>\n",
       "      <td>회에서 가시가 계속 나왔다 싸다고 넘어갈 가격도 아니니 그냥 아예 저렴함 곳 가거나...</td>\n",
       "    </tr>\n",
       "    <tr>\n",
       "      <th>2</th>\n",
       "      <td>자매수산 1호점</td>\n",
       "      <td>https://place.map.kakao.com/27254228</td>\n",
       "      <td>4.5</td>\n",
       "      <td>더보기</td>\n",
       "    </tr>\n",
       "    <tr>\n",
       "      <th>5</th>\n",
       "      <td>자매수산 1호점</td>\n",
       "      <td>https://place.map.kakao.com/27254228</td>\n",
       "      <td>3.9</td>\n",
       "      <td>방어가 그립다더보기</td>\n",
       "    </tr>\n",
       "    <tr>\n",
       "      <th>8</th>\n",
       "      <td>만원수산</td>\n",
       "      <td>https://place.map.kakao.com/1844312235</td>\n",
       "      <td>3.6</td>\n",
       "      <td>회 나쁘지 않고 술도 싼편 강남역 횟집중에서 가성비가 상당히 괜찮은 곳임더보기</td>\n",
       "    </tr>\n",
       "    <tr>\n",
       "      <th>10</th>\n",
       "      <td>만원수산</td>\n",
       "      <td>https://place.map.kakao.com/1844312235</td>\n",
       "      <td>4.3</td>\n",
       "      <td>더보기</td>\n",
       "    </tr>\n",
       "  </tbody>\n",
       "</table>\n",
       "</div>"
      ],
      "text/plain": [
       "   shop_name                                     url  score  \\\n",
       "0   자매수산 1호점    https://place.map.kakao.com/27254228    3.5   \n",
       "2   자매수산 1호점    https://place.map.kakao.com/27254228    4.5   \n",
       "5   자매수산 1호점    https://place.map.kakao.com/27254228    3.9   \n",
       "8       만원수산  https://place.map.kakao.com/1844312235    3.6   \n",
       "10      만원수산  https://place.map.kakao.com/1844312235    4.3   \n",
       "\n",
       "                                              ko_text  \n",
       "0   회에서 가시가 계속 나왔다 싸다고 넘어갈 가격도 아니니 그냥 아예 저렴함 곳 가거나...  \n",
       "2                                                 더보기  \n",
       "5                                          방어가 그립다더보기  \n",
       "8         회 나쁘지 않고 술도 싼편 강남역 횟집중에서 가성비가 상당히 괜찮은 곳임더보기  \n",
       "10                                                더보기  "
      ]
     },
     "execution_count": 7,
     "metadata": {},
     "output_type": "execute_result"
    }
   ],
   "source": [
    "# 함수를 적용하여 리뷰에서 한글만 추출합니다.\n",
    "\n",
    "df_shop['ko_text'] = df_shop['comment'].apply(lambda x: rawstack.text_cleaning(x))\n",
    "del df_shop['comment']\n",
    "\n",
    "# 한 글자 이상의 텍스트를 가지고 있는 데이터만 추출합니다\n",
    "# df_shop = df_shop[df_shop['ko_text'].str.len() > 0]\n",
    "df_shop.head()"
   ]
  },
  {
   "cell_type": "code",
   "execution_count": 50,
   "id": "2bd7d79d-88c8-487b-8819-89f74a384674",
   "metadata": {},
   "outputs": [
    {
     "name": "stdout",
     "output_type": "stream",
     "text": [
      "['회/Noun', '나쁘지/Adjective', '않고/Verb', '술/Noun', '도/Josa', '싼/Verb', '편/Noun', '강남역/Noun', '횟집/Noun', '중/Suffix', '에서/Josa', '가성/Noun', '비/Noun', '가/Josa', '상당히/Adjective', '괜찮은/Adjective', '곳임더/Noun', '보기/Noun']\n"
     ]
    }
   ],
   "source": [
    "# 형태소 추출 동작을 테스트합니다.\n",
    "result = rawstack.get_pos(df_shop['ko_text'].values[3])\n",
    "print(result)"
   ]
  },
  {
   "cell_type": "code",
   "execution_count": 12,
   "id": "60ef6d78-4ef1-4721-b8d1-adb2ec7453e5",
   "metadata": {},
   "outputs": [],
   "source": [
    "# 형태소를 벡터 형태의 학습 데이터셋(X 데이터)으로 변환합니다.\n",
    "index_vectorizer = CountVectorizer(tokenizer = lambda x: rawstack.get_pos(x))\n",
    "X = index_vectorizer.fit_transform(df_shop['ko_text'].tolist())"
   ]
  },
  {
   "cell_type": "code",
   "execution_count": 15,
   "id": "a8363c4c-d52b-4008-9793-c5ae9cd38612",
   "metadata": {},
   "outputs": [],
   "source": [
    "from sklearn.feature_extraction.text import TfidfTransformer\n",
    "\n",
    "# TF-IDF 방법으로, 형태소를 벡터 형태의 학습 데이터셋(X 데이터)으로 변환합니다.\n",
    "tfidf_vectorizer = TfidfTransformer()\n",
    "X = tfidf_vectorizer.fit_transform(X)"
   ]
  },
  {
   "cell_type": "code",
   "execution_count": 33,
   "id": "0d208d92-16a2-4e98-9765-34054935e7a5",
   "metadata": {},
   "outputs": [],
   "source": [
    "df_shop['y'] = df_shop['score'].apply(lambda x: 1 if x > 4 else 0)"
   ]
  },
  {
   "cell_type": "code",
   "execution_count": 34,
   "id": "0dc23001-fe38-444b-b895-bcf9faba38a7",
   "metadata": {},
   "outputs": [],
   "source": [
    "from sklearn.model_selection import train_test_split\n",
    "\n",
    "y = df_shop['y']\n",
    "x_train, x_test, y_train, y_test = train_test_split(X, y, test_size=0.30)"
   ]
  },
  {
   "cell_type": "code",
   "execution_count": 35,
   "id": "316f6780-8042-4c94-afb3-e37664e35d76",
   "metadata": {},
   "outputs": [
    {
     "name": "stdout",
     "output_type": "stream",
     "text": [
      "accuracy: 0.68\n",
      "Precision : 0.000\n",
      "Recall : 0.000\n",
      "F1 : 0.000\n"
     ]
    }
   ],
   "source": [
    "# 로지스틱 회귀모델을 학습합니다.\n",
    "lr = LogisticRegression(random_state=0)\n",
    "lr.fit(x_train, y_train)\n",
    "y_pred = lr.predict(x_test)\n",
    "y_pred_probability = lr.predict_proba(x_test)[:,1]\n",
    "\n",
    "# 로지스틱 회귀모델의 성능을 평가합니다.\n",
    "print(\"accuracy: %.2f\" % accuracy_score(y_test, y_pred))\n",
    "print(\"Precision : %.3f\" % precision_score(y_test, y_pred))\n",
    "print(\"Recall : %.3f\" % recall_score(y_test, y_pred))\n",
    "print(\"F1 : %.3f\" % f1_score(y_test, y_pred))"
   ]
  },
  {
   "cell_type": "code",
   "execution_count": 36,
   "id": "00ab9d29-cce4-4542-b476-f1ccce4c15f7",
   "metadata": {},
   "outputs": [
    {
     "name": "stdout",
     "output_type": "stream",
     "text": [
      "[[15  1]\n",
      " [ 6  0]]\n"
     ]
    }
   ],
   "source": [
    "# Confusion Matrix를 출력합니다.\n",
    "confmat = confusion_matrix(y_true=y_test, y_pred=y_pred)\n",
    "print(confmat)"
   ]
  },
  {
   "cell_type": "code",
   "execution_count": 37,
   "id": "372a1b27-519e-4082-b6a4-eb5f7a929ed5",
   "metadata": {},
   "outputs": [
    {
     "name": "stdout",
     "output_type": "stream",
     "text": [
      "AUC : 0.510\n"
     ]
    },
    {
     "data": {
      "text/plain": [
       "<matplotlib.legend.Legend at 0x1366a831d00>"
      ]
     },
     "execution_count": 37,
     "metadata": {},
     "output_type": "execute_result"
    },
    {
     "data": {
      "image/png": "[encoded data removed]",
      "text/plain": [
       "<Figure size 360x288 with 1 Axes>"
      ]
     },
     "metadata": {
      "needs_background": "light"
     },
     "output_type": "display_data"
    }
   ],
   "source": [
    "# AUC를 계산합니다.\n",
    "false_positive_rate, true_positive_rate, thresholds = roc_curve(y_test, y_pred_probability)\n",
    "roc_auc = roc_auc_score(y_test, y_pred_probability)\n",
    "print(\"AUC : %.3f\" % roc_auc)\n",
    "\n",
    "# ROC curve 그래프를 출력합니다.\n",
    "plt.rcParams['figure.figsize'] = [5, 4]\n",
    "plt.plot(false_positive_rate, true_positive_rate, label='ROC curve (area = %0.3f)' % roc_auc, \n",
    "         color='red', linewidth=4.0)\n",
    "plt.plot([0, 1], [0, 1], 'k--')\n",
    "plt.xlim([0.0, 1.0])\n",
    "plt.ylim([0.0, 1.0])\n",
    "plt.xlabel('False Positive Rate')\n",
    "plt.ylabel('True Positive Rate')\n",
    "plt.title('ROC curve of Logistic regression')\n",
    "plt.legend(loc=\"lower right\")"
   ]
  },
  {
   "cell_type": "code",
   "execution_count": 38,
   "id": "b9539013-2f71-4337-a192-17b6ef554f0d",
   "metadata": {},
   "outputs": [
    {
     "data": {
      "text/plain": [
       "<BarContainer object of 1129 artists>"
      ]
     },
     "execution_count": 38,
     "metadata": {},
     "output_type": "execute_result"
    },
    {
     "data": {
      "image/png": "[encoded data removed]",
      "text/plain": [
       "<Figure size 720x576 with 1 Axes>"
      ]
     },
     "metadata": {
      "needs_background": "light"
     },
     "output_type": "display_data"
    }
   ],
   "source": [
    "# 학습한 회귀 모델의 계수를 출력합니다.\n",
    "plt.rcParams['figure.figsize'] = [10, 8]\n",
    "plt.bar(range(len(lr.coef_[0])), lr.coef_[0])"
   ]
  },
  {
   "cell_type": "code",
   "execution_count": 39,
   "id": "ab9289af-dce1-4d34-90ff-f51226104021",
   "metadata": {},
   "outputs": [],
   "source": [
    "# 회귀 모델의 계수를 높은 순으로 정렬합니다. \n",
    "coef_pos_index = sorted(((value, index) for index, value in enumerate(lr.coef_[0])), reverse=True)"
   ]
  },
  {
   "cell_type": "code",
   "execution_count": 40,
   "id": "154f78f9-609d-4882-9eb0-72d2ddd534ff",
   "metadata": {},
   "outputs": [
    {
     "name": "stdout",
     "output_type": "stream",
     "text": [
      "{1116: '회/Noun', 712: '에서/Josa', 27: '가시/Noun', 10: '가/Josa', 80: '계속/Noun', 170: '나왔다/Verb', 608: '..\n"
     ]
    }
   ],
   "source": [
    "# 회귀 모델의 계수를 index_vectorizer에 맵핑하여, 어떤 형태소인지 출력할 수 있게 합니다.\n",
    "invert_index_vectorizer = {v: k for k, v in index_vectorizer.vocabulary_.items()}\n",
    "\n",
    "# 계수가 높은 순으로, 피처에 형태소를 맵핑한 결과를 출력합니다. 계수가 높은 피처는 리뷰에 긍정적인 영향을 주는 형태소라고 할 수 있습니다.\n",
    "print(str(invert_index_vectorizer)[:100]+'..')"
   ]
  },
  {
   "cell_type": "code",
   "execution_count": 41,
   "id": "ef1a93f6-f08f-44c3-9bcd-13eeb359b379",
   "metadata": {},
   "outputs": [
    {
     "name": "stdout",
     "output_type": "stream",
     "text": [
      "더/Noun 1.0380468194855594\n",
      "보기/Noun 0.9092773237488695\n",
      "괜찮아요/Adjective 0.4042892485068058\n",
      "자연/Noun 0.3332138258379044\n",
      "무난/Noun 0.32367472669653535\n",
      "살살/Noun 0.2658276747336348\n",
      "녹음/Noun 0.2658276747336348\n",
      "회더/Noun 0.2597735101770971\n",
      "다양한/Adjective 0.2597735101770971\n",
      "고등어/Noun 0.2597735101770971\n",
      "많고/Adjective 0.22104006640407098\n",
      "산이/Noun 0.21223007309748285\n",
      "은/Josa 0.21205156534498956\n",
      "집/Noun 0.19824813660105126\n",
      "없는/Adjective 0.19824813660105126\n",
      "다른/Modifier 0.19824813660105126\n",
      "요/Josa 0.1924905236169651\n",
      "비싼듯/Adjective 0.17744077327244218\n",
      "해물/Noun 0.16617673895940435\n",
      "좋았던것/Adjective 0.16354972515363236\n"
     ]
    }
   ],
   "source": [
    "# 상위 20개 긍정 형태소를 출력합니다.\n",
    "for coef in coef_pos_index[:20]:\n",
    "    print(invert_index_vectorizer[coef[1]], coef[0])"
   ]
  },
  {
   "cell_type": "code",
   "execution_count": 42,
   "id": "790a4ecf-3d9c-439e-87ed-baa07d5ba3c3",
   "metadata": {},
   "outputs": [
    {
     "name": "stdout",
     "output_type": "stream",
     "text": [
      "존/Noun -0.11959022429098876\n",
      "맛/Noun -0.12188607829767811\n",
      "가지/Noun -0.12188738765556245\n",
      "횟집/Noun -0.1232992462510006\n",
      "사람/Noun -0.13087694500546806\n",
      "서/Josa -0.13294051307090973\n",
      "시켰는데/Verb -0.1478756487233082\n",
      "좋은/Adjective -0.14789889044989724\n",
      "회/Noun -0.15006982005404723\n",
      "도/Josa -0.1508969803653382\n",
      "너무/Adverb -0.15272694707940312\n",
      "강남/Noun -0.1723606722313097\n",
      "가/Josa -0.1751020933006613\n",
      "그립다/Verb -0.17734251379826657\n",
      "안/VerbPrefix -0.18723927461842\n",
      "비/Noun -0.2107663781943834\n",
      "를/Josa -0.21185023643377457\n",
      "가리비/Noun -0.22344664200473302\n",
      "이/Josa -0.24707425331460944\n",
      "가성/Noun -0.28427641173833373\n"
     ]
    }
   ],
   "source": [
    "# 상위 20개 부정 형태소를 출력합니다.\n",
    "for coef in coef_pos_index[-20:]:\n",
    "    print(invert_index_vectorizer[coef[1]], coef[0])"
   ]
  },
  {
   "cell_type": "code",
   "execution_count": 43,
   "id": "29ebdd54-2380-4384-b235-c6150de559de",
   "metadata": {},
   "outputs": [],
   "source": [
    "noun_list = []\n",
    "adjective_list = []\n",
    "\n",
    "# 명사, 형용사별로 계수가 높은 상위 10개의 형태소를 추출합니다. 이는 리뷰에 긍정적인 영향을 주는 명사와 형용사를 순위별로 살펴보는 것이 됩니다.\n",
    "for coef in coef_pos_index[:100]:\n",
    "    pos_category = invert_index_vectorizer[coef[1]].split(\"/\")[1]\n",
    "    if pos_category == \"Noun\":\n",
    "        noun_list.append((invert_index_vectorizer[coef[1]], coef[0]))\n",
    "    elif pos_category == \"Adjective\":\n",
    "        adjective_list.append((invert_index_vectorizer[coef[1]], coef[0]))"
   ]
  },
  {
   "cell_type": "code",
   "execution_count": 44,
   "id": "e080b66c-2ce6-4e02-8396-2b931402e44e",
   "metadata": {},
   "outputs": [
    {
     "data": {
      "text/plain": [
       "[('더/Noun', 1.0380468194855594),\n",
       " ('보기/Noun', 0.9092773237488695),\n",
       " ('자연/Noun', 0.3332138258379044),\n",
       " ('무난/Noun', 0.32367472669653535),\n",
       " ('살살/Noun', 0.2658276747336348),\n",
       " ('녹음/Noun', 0.2658276747336348),\n",
       " ('회더/Noun', 0.2597735101770971),\n",
       " ('고등어/Noun', 0.2597735101770971),\n",
       " ('산이/Noun', 0.21223007309748285),\n",
       " ('집/Noun', 0.19824813660105126)]"
      ]
     },
     "execution_count": 44,
     "metadata": {},
     "output_type": "execute_result"
    }
   ],
   "source": [
    "# 상위 10개의 명사를 출력합니다.\n",
    "noun_list[:10]"
   ]
  },
  {
   "cell_type": "code",
   "execution_count": 45,
   "id": "5b41ef1b-2d63-47b7-b4cf-6abaf5380a62",
   "metadata": {},
   "outputs": [
    {
     "data": {
      "text/plain": [
       "[('괜찮아요/Adjective', 0.4042892485068058),\n",
       " ('다양한/Adjective', 0.2597735101770971),\n",
       " ('많고/Adjective', 0.22104006640407098),\n",
       " ('없는/Adjective', 0.19824813660105126),\n",
       " ('비싼듯/Adjective', 0.17744077327244218),\n",
       " ('좋았던것/Adjective', 0.16354972515363236),\n",
       " ('안되는지/Adjective', 0.16354972515363236),\n",
       " ('같음/Adjective', 0.16354972515363236),\n",
       " ('좋음/Adjective', 0.15590989860127644),\n",
       " ('급하기/Adjective', 0.15590989860127644)]"
      ]
     },
     "execution_count": 45,
     "metadata": {},
     "output_type": "execute_result"
    }
   ],
   "source": [
    "# 상위 10개의 형용사를 출력합니다.\n",
    "adjective_list[:10]"
   ]
  },
  {
   "cell_type": "code",
   "execution_count": 46,
   "id": "73a2de3b-be89-4172-80d3-397bf8d87dba",
   "metadata": {},
   "outputs": [
    {
     "data": {
      "text/plain": [
       "[('광어/Noun', 0.10116136629816344),\n",
       " ('산/Noun', 0.08934808715513898),\n",
       " ('분/Noun', 0.056930359302486876),\n",
       " ('그냥/Noun', 0.0410467723356908),\n",
       " ('가격/Noun', 0.03613260308782921),\n",
       " ('사장/Noun', 0.02631819275206792),\n",
       " ('횟감/Noun', 0.0),\n",
       " ('회의/Noun', 0.0),\n",
       " ('회식/Noun', 0.0),\n",
       " ('회로/Noun', 0.0)]"
      ]
     },
     "execution_count": 46,
     "metadata": {},
     "output_type": "execute_result"
    }
   ],
   "source": [
    "noun_list[-10:]"
   ]
  },
  {
   "cell_type": "code",
   "execution_count": 47,
   "id": "7f934d93-78b0-4fc6-ba6f-9c34e4dc99e8",
   "metadata": {},
   "outputs": [
    {
     "data": {
      "text/plain": [
       "[('좋음/Adjective', 0.15590989860127644),\n",
       " ('급하기/Adjective', 0.15590989860127644),\n",
       " ('부실한/Adjective', 0.15547891788806265),\n",
       " ('부담스러웠다/Adjective', 0.15547891788806265),\n",
       " ('딱히/Adjective', 0.15547891788806265),\n",
       " ('깔끔하지도/Adjective', 0.15547891788806265),\n",
       " ('그랬습니다/Adjective', 0.15547891788806265),\n",
       " ('이런건/Adjective', 0.1425354480650124),\n",
       " ('오래되서/Adjective', 0.1425354480650124),\n",
       " ('노란/Adjective', 0.1425354480650124)]"
      ]
     },
     "execution_count": 47,
     "metadata": {},
     "output_type": "execute_result"
    }
   ],
   "source": [
    "adjective_list[-10:]"
   ]
  }
 ],
 "metadata": {
  "kernelspec": {
   "display_name": "Python 3 (ipykernel)",
   "language": "python",
   "name": "python3"
  },
  "language_info": {
   "codemirror_mode": {
    "name": "ipython",
    "version": 3
   },
   "file_extension": ".py",
   "mimetype": "text/x-python",
   "name": "python",
   "nbconvert_exporter": "python",
   "pygments_lexer": "ipython3",
   "version": "3.9.5"
  }
 },
 "nbformat": 4,
 "nbformat_minor": 5
}
